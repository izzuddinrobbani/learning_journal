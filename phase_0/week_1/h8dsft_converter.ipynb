{
 "cells": [
  {
   "cell_type": "markdown",
   "metadata": {},
   "source": [
    "# Konversi suhu dari kelvin ke celcius dan celcius ke kelvin"
   ]
  },
  {
   "cell_type": "code",
   "execution_count": 41,
   "metadata": {},
   "outputs": [
    {
     "name": "stdout",
     "output_type": "stream",
     "text": [
      "Konversi 10 Celcius ke Kelvin\n",
      "10 C = 283.15 K\n"
     ]
    }
   ],
   "source": [
    "def temp_converter_cel_to_kel(ctemp): #deklarasi fungsi konversi celcius ke kelvin\n",
    "    ktemp = ctemp + 273.15 #rumus konversi celcius ke kelvin \n",
    "    print('Konversi',ctemp,'Celcius ke Kelvin') #judul untuk tampilan output\n",
    "    print(ctemp,\"C =\",ktemp,\"K\") #output hasil konversi \n",
    "    \n",
    "def temp_converter_kel_to_cel(ktemp): #deklarasi fungsi konversi kelvin ke celcius\n",
    "    ctemp = ktemp - 273.15 #rumus konversi kelvin ke celcius \n",
    "    print('Konversi',ktemp,'Kelvin ke Celcius') #judul untuk tampilan output\n",
    "    print(ktemp,\"K =\",ctemp,\"C\") #output hasil konversi\n",
    "\n",
    "cel_or_kel=input('Ketik A untuk convert dari celcius ke kelvin atau Ketik B untuk convert dari kelvin ke celcius') #meminta input penentuan jenis konversi (celcius to kelvin atau kelvin to celcius)\n",
    "if cel_or_kel=='A': #deklarasi kondisi untuk input A yang artinya menjalankan fungsi konversi celcius ke kelvin\n",
    "    sctemp=input('Masukan nilai Celcius :') #meminta input nilai celcius yang ingin dikonversi\n",
    "    ctemp=int(sctemp) #merubah tipe data input dari string menjadi integer\n",
    "    temp_converter_cel_to_kel(ctemp) #memanggil fungsi konversi celcius ke kelvin dimana menggunakan input yang telah dikonversi menjadi integer sebagai argumen\n",
    "elif cel_or_kel=='B': #deklarasi kondisi untuk input B yang artinya menjalankan fungsi konversi kelvin ke celcius\n",
    "    sktemp=input('Masukan nilai Kelvin :') #meminta input nilai kelvin yang ingin dikonversi\n",
    "    ktemp=int(sktemp) #merubah tipe data input dari string menjadi integer\n",
    "    temp_converter_kel_to_cel(ktemp) #memanggil fungsi konversi kelvin ke celcius dimana menggunakan input yang telah dikonversi menjadi integer sebagai argumen\n",
    "else: #deklarasi output untuk kondisi input yang bukan A atau B\n",
    "    print(\"Pilihanmu ngga jelas, BYE\") #menampilkan ucapan selamat tinggal karena input bukan A atau B"
   ]
  },
  {
   "cell_type": "markdown",
   "metadata": {},
   "source": [
    "# Konversi suhu ke fahrenheit"
   ]
  },
  {
   "cell_type": "code",
   "execution_count": 47,
   "metadata": {},
   "outputs": [
    {
     "name": "stdout",
     "output_type": "stream",
     "text": [
      "Konversi 50.0 Celcius ke Fahrenheit\n",
      "10.0 C = 50.0 F\n"
     ]
    }
   ],
   "source": [
    "def temp_converter_cel_to_fahr(ctemp): #deklarasi fungsi konversi celcius ke kelvin\n",
    "    ftemp = ctemp * (9/5) + 32 #rumus konversi celcius ke kelvin \n",
    "    print('Konversi',ftemp,'Celcius ke Fahrenheit') #judul untuk tampilan output\n",
    "    print(ctemp,\"C =\",ftemp,\"F\") #output hasil konversi \n",
    "    \n",
    "def temp_converter_kel_to_fahr(ktemp): #deklarasi fungsi konversi kelvin ke celcius\n",
    "    ftemp = (ktemp - 273.15) * (9/5) + 32 #rumus konversi kelvin ke celcius \n",
    "    print('Konversi',ftemp,'Kelvin ke Fahrenheit') #judul untuk tampilan output\n",
    "    print(ktemp,\"K =\",ftemp,\"F\") #output hasil konversi\n",
    "\n",
    "temp_to_fahr=input('Ketik C untuk merubah suhu celcius ke fahrenheit atau Ketik K untuk merubah suhu kelvin ke fahrenheit')\n",
    "if temp_to_fahr=='C': #deklarasi kondisi untuk input c yang artinya menjalankan fungsi konversi celcius ke fahrenheit\n",
    "    sctemp=input('Masukan nilai Celcius :') #meminta input nilai celcius yang ingin dikonversi\n",
    "    ctemp=float(sctemp) #merubah tipe data input dari string menjadi float\n",
    "    temp_converter_cel_to_fahr(ctemp) #memanggil fungsi konversi celcius ke kelvin dimana menggunakan input yang telah dikonversi menjadi float sebagai argumen\n",
    "elif temp_to_fahr=='K': #deklarasi kondisi untuk input B yang artinya menjalankan fungsi konversi kelvin ke celcius\n",
    "    sktemp=input('Masukan nilai Kelvin :') #meminta input nilai kelvin yang ingin dikonversi\n",
    "    ktemp=float(sktemp) #merubah tipe data input dari string menjadi float\n",
    "    temp_converter_kel_to_fahr(ktemp) #memanggil fungsi konversi kelvin ke celcius dimana menggunakan input yang telah dikonversi menjadi float sebagai argumen\n",
    "else: #deklarasi output untuk kondisi input yang bukan C atau K\n",
    "    print(\"Pilihanmu ngga jelas, BYE\") #menampilkan ucapan selamat tinggal karena input bukan C atau K\n"
   ]
  },
  {
   "cell_type": "markdown",
   "metadata": {},
   "source": [
    "# Konversi suhu dari fahrenheit"
   ]
  },
  {
   "cell_type": "code",
   "execution_count": 49,
   "metadata": {},
   "outputs": [
    {
     "name": "stdout",
     "output_type": "stream",
     "text": [
      "Konversi 100.0 Fahrenheit ke Kelvin dan Celcius\n",
      "100.0 K = 37.77777777777778 C\n",
      "100.0 K = 310.92777777777775 K\n"
     ]
    }
   ],
   "source": [
    "def temp_converter_fahr(ftemp): #deklarasi fungsi konversi fahrenheit ke kelvin dan celcius\n",
    "    ctemp = (ftemp - 32) * 5/9 #rumus konversi fahrenheit ke celcius \n",
    "    ktemp = (ftemp - 32) * 5/9 + 273.15 #rumus konversi fahrenheit ke kelvin \n",
    "    print('Konversi',ftemp,'Fahrenheit ke Kelvin dan Celcius') #judul untuk tampilan output\n",
    "    print(ftemp,\"K =\",ctemp,\"C\") #output hasil konversi \n",
    "    print(ftemp,\"K =\",ktemp,\"K\") #output hasil konversi\n",
    "\n",
    "konfersi_farh=input('Masukan nilai Fahrenheit :')#meminta input nilai fahrenheit yang ingin dikonversi\n",
    "ftemp=float(konfersi_farh) #merubah tipe data input dari string menjadi float\n",
    "temp_converter_fahr(ftemp) #memanggil fungsi konversi fahrenheit ke celcius dan fahrenheit ke kelvin dimana menggunakan input yang telah dikonversi menjadi float sebagai argumen"
   ]
  }
 ],
 "metadata": {
  "interpreter": {
   "hash": "b9e1f1c4366ad32daedf1db3338d9d45d0963a65189975f672bd51ac8467a6ac"
  },
  "kernelspec": {
   "display_name": "Python 3.9.7 ('base')",
   "language": "python",
   "name": "python3"
  },
  "language_info": {
   "codemirror_mode": {
    "name": "ipython",
    "version": 3
   },
   "file_extension": ".py",
   "mimetype": "text/x-python",
   "name": "python",
   "nbconvert_exporter": "python",
   "pygments_lexer": "ipython3",
   "version": "3.9.7"
  },
  "orig_nbformat": 4
 },
 "nbformat": 4,
 "nbformat_minor": 2
}
